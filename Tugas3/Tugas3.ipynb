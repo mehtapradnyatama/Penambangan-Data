{
 "cells": [
  {
   "cell_type": "code",
   "execution_count": 1,
   "id": "898dcf00-3e1c-4b9e-8a93-92d0c0e2eacd",
   "metadata": {},
   "outputs": [],
   "source": [
    "import numpy as np \n",
    "import matplotlib.pyplot as plt\n",
    "import pandas as pd"
   ]
  },
  {
   "cell_type": "code",
   "execution_count": 2,
   "id": "ab2f5d77-163f-4370-9c54-2f96a91b8bbb",
   "metadata": {},
   "outputs": [],
   "source": [
    "dataset = pd.read_csv('dataset.csv')\n",
    "X = dataset.iloc[:, :-1].values\n",
    "Y = dataset.iloc[:, -1].values"
   ]
  },
  {
   "cell_type": "code",
   "execution_count": 3,
   "id": "84a9b282-e6ae-4dc5-8e41-bc49a2a2aee6",
   "metadata": {},
   "outputs": [
    {
     "name": "stdout",
     "output_type": "stream",
     "text": [
      "[[25 'Manajer' 50000]\n",
      " [30 'Staf' 45000]\n",
      " [35 'Staf' 48000]\n",
      " [45 'Manajer' 70000]\n",
      " [50 'Pekerja Lepas' 30000]]\n"
     ]
    }
   ],
   "source": [
    "print(X)"
   ]
  },
  {
   "cell_type": "code",
   "execution_count": 5,
   "id": "d4f3b9d4-69ce-4667-830a-3232cd313e26",
   "metadata": {},
   "outputs": [
    {
     "name": "stdout",
     "output_type": "stream",
     "text": [
      "['Langganan' 'Tidak Langganan' 'Langganan' 'Langganan' 'Tidak Langganan']\n"
     ]
    }
   ],
   "source": [
    "print(Y)"
   ]
  },
  {
   "cell_type": "code",
   "execution_count": 6,
   "id": "1d44ed87-7c3b-4a83-aa69-9ef3920fc514",
   "metadata": {},
   "outputs": [],
   "source": [
    "from sklearn.impute import SimpleImputer\n",
    "imputer = SimpleImputer(missing_values=np.nan, strategy='most_frequent')\n",
    "imputer.fit(X[:, 1:3])\n",
    "X[:, 1:3] = imputer.transform(X[:,1:3])"
   ]
  },
  {
   "cell_type": "code",
   "execution_count": 7,
   "id": "b6698e20-21cf-46ba-9398-3dd4e256d0da",
   "metadata": {},
   "outputs": [
    {
     "name": "stdout",
     "output_type": "stream",
     "text": [
      "[[25 'Manajer' 50000]\n",
      " [30 'Staf' 45000]\n",
      " [35 'Staf' 48000]\n",
      " [45 'Manajer' 70000]\n",
      " [50 'Pekerja Lepas' 30000]]\n"
     ]
    }
   ],
   "source": [
    "print(X)"
   ]
  },
  {
   "cell_type": "code",
   "execution_count": 8,
   "id": "95d0b032-7e6f-44b4-b584-4984fe32d9a5",
   "metadata": {},
   "outputs": [],
   "source": [
    "from sklearn.compose import ColumnTransformer\n",
    "from sklearn.preprocessing import OneHotEncoder\n",
    "ct = ColumnTransformer(transformers=[('encoder', OneHotEncoder(), [0])], remainder='passthrough')\n",
    "X = np.array(ct.fit_transform(X))"
   ]
  },
  {
   "cell_type": "code",
   "execution_count": 9,
   "id": "7ea76a79-d7a4-4230-866f-1ec50feddc99",
   "metadata": {},
   "outputs": [
    {
     "name": "stdout",
     "output_type": "stream",
     "text": [
      "[[1.0 0.0 0.0 0.0 0.0 'Manajer' 50000]\n",
      " [0.0 1.0 0.0 0.0 0.0 'Staf' 45000]\n",
      " [0.0 0.0 1.0 0.0 0.0 'Staf' 48000]\n",
      " [0.0 0.0 0.0 1.0 0.0 'Manajer' 70000]\n",
      " [0.0 0.0 0.0 0.0 1.0 'Pekerja Lepas' 30000]]\n"
     ]
    }
   ],
   "source": [
    "print(X)"
   ]
  },
  {
   "cell_type": "code",
   "execution_count": 10,
   "id": "46641448-c94e-4fef-8f9c-5b573519616b",
   "metadata": {},
   "outputs": [],
   "source": [
    "from sklearn.preprocessing import LabelEncoder\n",
    "le = LabelEncoder()\n",
    "Y = le.fit_transform(Y)"
   ]
  },
  {
   "cell_type": "code",
   "execution_count": 11,
   "id": "10b06e09-4dac-484b-95ad-cb1db04e448c",
   "metadata": {},
   "outputs": [
    {
     "name": "stdout",
     "output_type": "stream",
     "text": [
      "[0 1 0 0 1]\n"
     ]
    }
   ],
   "source": [
    "print(Y)"
   ]
  },
  {
   "cell_type": "code",
   "execution_count": 12,
   "id": "19392d72-c7e5-432b-93b2-6fbfc06c7060",
   "metadata": {},
   "outputs": [],
   "source": [
    "from sklearn.model_selection import train_test_split\n",
    "X_train, X_test, Y_train, Y_test = train_test_split(X, Y, test_size= 0.2, random_state= 1)"
   ]
  },
  {
   "cell_type": "code",
   "execution_count": 13,
   "id": "3f8d10b6-cfab-43c3-a751-3b39a6ddb236",
   "metadata": {},
   "outputs": [
    {
     "name": "stdout",
     "output_type": "stream",
     "text": [
      "[[0.0 1.0 0.0 0.0 0.0 'Staf' 45000]\n",
      " [0.0 0.0 0.0 0.0 1.0 'Pekerja Lepas' 30000]\n",
      " [1.0 0.0 0.0 0.0 0.0 'Manajer' 50000]\n",
      " [0.0 0.0 0.0 1.0 0.0 'Manajer' 70000]]\n"
     ]
    }
   ],
   "source": [
    "print(X_train)"
   ]
  },
  {
   "cell_type": "code",
   "execution_count": 14,
   "id": "a6cd8483-c9ee-4816-aa76-54e3fca3973a",
   "metadata": {},
   "outputs": [
    {
     "name": "stdout",
     "output_type": "stream",
     "text": [
      "[[0.0 0.0 1.0 0.0 0.0 'Staf' 48000]]\n"
     ]
    }
   ],
   "source": [
    "print(X_test)"
   ]
  },
  {
   "cell_type": "code",
   "execution_count": 15,
   "id": "57390cad-464b-48e6-88d8-bf86c2b308e0",
   "metadata": {},
   "outputs": [
    {
     "name": "stdout",
     "output_type": "stream",
     "text": [
      "[1 1 0 0]\n"
     ]
    }
   ],
   "source": [
    "print(Y_train)"
   ]
  },
  {
   "cell_type": "code",
   "execution_count": 16,
   "id": "238483e7-7a8f-4409-aced-efc17fc96821",
   "metadata": {},
   "outputs": [
    {
     "name": "stdout",
     "output_type": "stream",
     "text": [
      "[0]\n"
     ]
    }
   ],
   "source": [
    "print(Y_test)"
   ]
  },
  {
   "cell_type": "code",
   "execution_count": 17,
   "id": "05bacca9-0b04-4765-9a66-669fbb7cac78",
   "metadata": {},
   "outputs": [],
   "source": [
    "from sklearn.preprocessing import StandardScaler\n",
    "sc = StandardScaler()\n",
    "X_train[:, 1:3] = sc.fit_transform(X_train[:, 1:3])\n",
    "X_test[:, 1:3] = sc.transform(X_test[:, 1:3])"
   ]
  },
  {
   "cell_type": "code",
   "execution_count": 18,
   "id": "8807dd07-56d3-4f27-ad8c-a51de32963c9",
   "metadata": {},
   "outputs": [
    {
     "name": "stdout",
     "output_type": "stream",
     "text": [
      "[[0.0 1.7320508075688774 0.0 0.0 0.0 'Staf' 45000]\n",
      " [0.0 -0.5773502691896258 0.0 0.0 1.0 'Pekerja Lepas' 30000]\n",
      " [1.0 -0.5773502691896258 0.0 0.0 0.0 'Manajer' 50000]\n",
      " [0.0 -0.5773502691896258 0.0 1.0 0.0 'Manajer' 70000]]\n"
     ]
    }
   ],
   "source": [
    "print(X_train)"
   ]
  },
  {
   "cell_type": "code",
   "execution_count": 19,
   "id": "39b15ed7-5312-4f0b-8f6f-93e8ab3a1049",
   "metadata": {},
   "outputs": [
    {
     "name": "stdout",
     "output_type": "stream",
     "text": [
      "[[0.0 -0.5773502691896258 1.0 0.0 0.0 'Staf' 48000]]\n"
     ]
    }
   ],
   "source": [
    "print(X_test)"
   ]
  },
  {
   "cell_type": "code",
   "execution_count": null,
   "id": "276877ab-dfe3-4aad-b7b5-e101e10a7c2d",
   "metadata": {},
   "outputs": [],
   "source": []
  }
 ],
 "metadata": {
  "kernelspec": {
   "display_name": "Python 3 (ipykernel)",
   "language": "python",
   "name": "python3"
  },
  "language_info": {
   "codemirror_mode": {
    "name": "ipython",
    "version": 3
   },
   "file_extension": ".py",
   "mimetype": "text/x-python",
   "name": "python",
   "nbconvert_exporter": "python",
   "pygments_lexer": "ipython3",
   "version": "3.12.3"
  }
 },
 "nbformat": 4,
 "nbformat_minor": 5
}
